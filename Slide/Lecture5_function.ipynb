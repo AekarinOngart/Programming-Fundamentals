{
 "cells": [
  {
   "cell_type": "code",
   "execution_count": null,
   "id": "6afbfe49",
   "metadata": {},
   "outputs": [],
   "source": [
    "#-----------------------------------------------------------------------------\n",
    "# ในการทำงานบางอย่างที่ต้องการทำงานซ้ำๆ เราสามารถสร้างเป็น Function ได้ \n",
    "# Python มี Build in function มากมาย\n",
    "# ตัวอย่างของ Build in function\n",
    "#-----------------------------------------------------------------------------\n",
    "\n",
    "print('abc')\n",
    "len('abc')"
   ]
  },
  {
   "cell_type": "code",
   "execution_count": 1,
   "id": "1829becf",
   "metadata": {},
   "outputs": [
    {
     "name": "stdout",
     "output_type": "stream",
     "text": [
      "Good afternoon, John\n",
      "Good afternoon, Bob\n"
     ]
    }
   ],
   "source": [
    "#-----------------------------------------------------------------------------\n",
    "# แต่เราก็สามารถสร้าง User defined function ขึ้นใช้เองได้\n",
    "# def function_name(parameters):\n",
    "#      docstring\n",
    "#      statement(s)\n",
    "#      return x\n",
    "#-----------------------------------------------------------------------------\n",
    "\n",
    "def hello(name):\n",
    "    # code ที่อยู่ใน function ต้อง indent \n",
    "    \"\"\"\n",
    "    Function to print ส่วนนี้เรียกว่า docstring เอาไว้อธิบายการทำงานของ function\n",
    "    \"\"\"\n",
    "    print (\"Good afternoon, \" + name)\n",
    "\n",
    "hello(\"John\")\n",
    "hello(\"Bob\")"
   ]
  },
  {
   "cell_type": "code",
   "execution_count": 3,
   "id": "6b7deefd",
   "metadata": {},
   "outputs": [
    {
     "data": {
      "text/plain": [
       "False"
      ]
     },
     "execution_count": 3,
     "metadata": {},
     "output_type": "execute_result"
    }
   ],
   "source": [
    "#---------------------------------------------------\n",
    "#*ในการส่งค่ากลับ สามารถใช้ return \n",
    "#---------------------------------------------------\\\n",
    "\n",
    "def is_even(n):\n",
    "    if (n%2==0):\n",
    "        return True\n",
    "    else:\n",
    "        return False\n",
    "\n",
    "is_even(3)"
   ]
  },
  {
   "cell_type": "code",
   "execution_count": null,
   "id": "474d7f6b",
   "metadata": {},
   "outputs": [],
   "source": [
    "#*สามารถเขียนได้อีกแบบ\n",
    "\n",
    "def is_even(n): return True if n%2==0 else False"
   ]
  },
  {
   "cell_type": "code",
   "execution_count": 5,
   "id": "43f10f25",
   "metadata": {},
   "outputs": [
    {
     "data": {
      "text/plain": [
       "False"
      ]
     },
     "execution_count": 5,
     "metadata": {},
     "output_type": "execute_result"
    }
   ],
   "source": [
    "#---------------------------------------------------\n",
    "#| Ex 5.1 ถ้าจะทำฟังก์ชัน is_ood() ควรเขียนแบบใด\n",
    "#---------------------------------------------------\n",
    "def is_even(n):\n",
    "    if (n%2==0):\n",
    "        return True\n",
    "    else:\n",
    "        return False\n",
    "    \n",
    "def is_odd(n):\n",
    "    return not(is_even(n))\n",
    "\n",
    "is_odd(4)"
   ]
  },
  {
   "cell_type": "code",
   "execution_count": 8,
   "id": "d4d72c6e",
   "metadata": {},
   "outputs": [
    {
     "name": "stdout",
     "output_type": "stream",
     "text": [
      "3\n",
      "4\n"
     ]
    }
   ],
   "source": [
    "#| Ex 5.2 จงเขียน Function absolute value\n",
    "\n",
    "def abs(n): return (-1*n) if n<0 else n\n",
    "\n",
    "print(abs(3))\n",
    "print(abs(-4))"
   ]
  },
  {
   "cell_type": "code",
   "execution_count": 9,
   "id": "ea615d8e",
   "metadata": {},
   "outputs": [
    {
     "name": "stdout",
     "output_type": "stream",
     "text": [
      "True\n"
     ]
    }
   ],
   "source": [
    "#| Ex 5.3 จงเขียนโปรแกรมรับค่าตัวเลข และบอกว่าเป็น square number หรือไม่\n",
    "#|        โดยให้ทำเป็นฟังก์ชัน square number คือ ตัวเลขกำลังสองของเลขอื่น\n",
    "\n",
    "def is_square(n):\n",
    "    for i in range(n):\n",
    "        if (n==i*i):\n",
    "            return True\n",
    "    return False\n",
    "\n",
    "print(is_square(25))\n"
   ]
  },
  {
   "cell_type": "code",
   "execution_count": 10,
   "id": "3dac348f",
   "metadata": {},
   "outputs": [
    {
     "name": "stdout",
     "output_type": "stream",
     "text": [
      "(100.0, 7.0)\n",
      "p =  200.0\n",
      "v =  14.0\n"
     ]
    }
   ],
   "source": [
    "#---------------------------------------------------\n",
    "#* บางกรณีต้องมีการ Return หลายค่า \n",
    "#* เช่น จะเขียนโปรแกรมที่ใส่จำนวนเงิน \n",
    "#* แล้ว Return มูลค่าสินค้า กับ ภาษีมูลค่าเพิ่ม\n",
    "#---------------------------------------------------\n",
    "\n",
    "def price_with_vat(amount):\n",
    "    vat = amount * 7 / 107  # 107  * 7 /107\n",
    "    price = amount - vat\n",
    "    return price, vat\n",
    "\n",
    "() Tuple [] List \n",
    "print(price_with_vat(107))\n",
    "p, v = price_with_vat(214)\n",
    "print(\"p = \", p)\n",
    "print(\"v = \", v)"
   ]
  },
  {
   "cell_type": "code",
   "execution_count": 12,
   "id": "a555a96a",
   "metadata": {},
   "outputs": [
    {
     "name": "stdout",
     "output_type": "stream",
     "text": [
      "8\n",
      "rainbow\n"
     ]
    }
   ],
   "source": [
    "def alpha(a, b):\n",
    "    c = a + b\n",
    "    print(c)\n",
    "\n",
    "alpha(5, 3)\n",
    "alpha(\"rain\", \"bow\")\n",
    "\n",
    "#* จะเห็นว่าสามารถทำงานได้ทั้ง 2 แบบ เรียกว่า dynamic type\n"
   ]
  },
  {
   "cell_type": "code",
   "execution_count": 14,
   "id": "e96a1de4",
   "metadata": {},
   "outputs": [
    {
     "name": "stdout",
     "output_type": "stream",
     "text": [
      "(100.0, 7.0)\n"
     ]
    }
   ],
   "source": [
    "def price_with_vat2(amount, vat_rate):\n",
    "    vat = amount * vat_rate / (100+vat_rate)  # 107  * 7 /107\n",
    "    price = amount - vat\n",
    "    return price, vat\n",
    "\n",
    "#---------------------------------------------------\n",
    "#* ในกรณีที่มี parameter หลายตัว มีความเป็นไปได้ว่าอาจใส่สลับกันมา\n",
    "#* เพื่อป้องกันไม่ให้ใส่สลับกันจึงสามารถระบุชื่อตัวแปรตอนเรียกได้เลย\n",
    "#---------------------------------------------------\n",
    "\n",
    "print(price_with_vat2(amount=107, vat_rate=7))"
   ]
  },
  {
   "cell_type": "code",
   "execution_count": null,
   "id": "76b7ffcf",
   "metadata": {},
   "outputs": [],
   "source": [
    "# https://docs.python.org/3/library/functions.html"
   ]
  },
  {
   "cell_type": "code",
   "execution_count": null,
   "id": "2b5a0cad",
   "metadata": {},
   "outputs": [
    {
     "name": "stdout",
     "output_type": "stream",
     "text": [
      "####################\n",
      "#  Volume calculation program   #\n",
      "####################\n",
      "# 1. Prism           #\n",
      "# 2. Cylinder        #\n",
      "# 3. Cone            #\n",
      "# 4. Sphere          #\n",
      "# 5. Exit            #\n",
      "####################\n",
      "Enter your choice: 4\n",
      "Enter radius = 3\n",
      "Sphere volume = 113.14\n",
      "\n",
      "\n",
      "\n",
      "\n",
      "\n",
      "\n",
      "\n",
      "\n",
      "\n",
      "\n",
      "\n",
      "####################\n",
      "#  Volume calculation program   #\n",
      "####################\n",
      "# 1. Prism           #\n",
      "# 2. Cylinder        #\n",
      "# 3. Cone            #\n",
      "# 4. Sphere          #\n",
      "# 5. Exit            #\n",
      "####################\n"
     ]
    }
   ],
   "source": [
    "\n",
    "### ตัวอย่าง โปรแกรมหาปริมาตรของรูปทรงต่างๆ\n",
    "\n",
    "def menu():\n",
    "    print(\"#\" *20)\n",
    "    print(\"#  Volume calculation program   #\")\n",
    "    print(\"#\" *20)\n",
    "    print(\"# 1. Prism           #\")\n",
    "    print(\"# 2. Cylinder        #\")\n",
    "    print(\"# 3. Cone            #\")\n",
    "    print(\"# 4. Sphere          #\")\n",
    "    print(\"# 5. Exit            #\")\n",
    "    print(\"#\" *20)\n",
    "\n",
    "def Prism(width, length, height):\n",
    "    return width * length * height\n",
    "\n",
    "def Cylinder(r, height):\n",
    "    return (22/7) * (r * r) * height\n",
    "\n",
    "def Cone(r, height):\n",
    "    return (1/3) * (22/7) * (r * r) * height\n",
    "\n",
    "def Sphere(r):\n",
    "    return (4/3) * (22/7) * (r ** 3)\n",
    "\n",
    "def clear(): print(\"\\n\" *10) \n",
    "\n",
    "menu()\n",
    "INPUT = int(input(\"Enter your choice: \"))\n",
    "while INPUT != 5:\n",
    "    if INPUT == 1:\n",
    "        width = float(input(\"Enter width = \"))\n",
    "        length = float(input(\"Enter length = \"))\n",
    "        height = float(input(\"Enter height = \"))\n",
    "        print(\"Prism volume = %0.2f\" %Prism(width, length, height))\n",
    "    elif INPUT == 2:\n",
    "        r = float(input(\"Enter radius = \"))\n",
    "        height = float(input(\"Enter height = \"))\n",
    "        print(\"Cylinder volume = %0.2f\" %Cylinder(r, height))\n",
    "    elif INPUT == 3:\n",
    "        r = float(input(\"Enter radius = \"))\n",
    "        height = float(input(\"Enter height = \"))\n",
    "        print(\"Cone volume = %0.2f\" %Cone(r, height))\n",
    "    elif INPUT == 4:\n",
    "        r = float(input(\"Enter radius = \"))\n",
    "        print(\"Sphere volume = %0.2f\" %Sphere(r))\n",
    "    else:\n",
    "        print(\"Your choice is wrong!\")\n",
    "    clear()\n",
    "    menu()\n",
    "    INPUT = int(input(\"Enter your choice: \"))\n",
    "else:\n",
    "    print(\"Program exit\")\n",
    "\n",
    "  \n",
    "    "
   ]
  },
  {
   "cell_type": "code",
   "execution_count": null,
   "id": "e9f8ae69",
   "metadata": {},
   "outputs": [],
   "source": []
  }
 ],
 "metadata": {
  "kernelspec": {
   "display_name": "Python 3 (ipykernel)",
   "language": "python",
   "name": "python3"
  },
  "language_info": {
   "codemirror_mode": {
    "name": "ipython",
    "version": 3
   },
   "file_extension": ".py",
   "mimetype": "text/x-python",
   "name": "python",
   "nbconvert_exporter": "python",
   "pygments_lexer": "ipython3",
   "version": "3.9.6"
  }
 },
 "nbformat": 4,
 "nbformat_minor": 5
}
