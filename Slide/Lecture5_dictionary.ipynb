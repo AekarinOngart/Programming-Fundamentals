{
 "cells": [
  {
   "cell_type": "code",
   "execution_count": 1,
   "id": "edd02dbd",
   "metadata": {},
   "outputs": [
    {
     "name": "stdout",
     "output_type": "stream",
     "text": [
      "james => 1828\n",
      "thomas => 3628\n"
     ]
    }
   ],
   "source": [
    "#---------------------------------------------------\n",
    "#* ในขณะที่ list เป็นโครงสร้างข้อมูลที่อ้างอิงโดย Index \n",
    "#* เป็นโครงสร้างข้อมูล ในลักษณะของการจับคู่ ซึ่งอ้างอิงโดย Key\n",
    "#* การใช้งานจะเป็นรูปแบบ {key : value, key : value}\n",
    "#---------------------------------------------------\n",
    "\n",
    "scores = {'james': 1828, 'thomas': 3628, 'danny': 9310}\n",
    "\n",
    "#---------------------------------------------------\n",
    "#* การเพิ่มข้อมูล จะระบุด้วย key\n",
    "#---------------------------------------------------\n",
    "scores['bobby'] = 4401\n",
    "\n",
    "#---------------------------------------------------\n",
    "#* การแสดงผล ใช้ key เป็นตัวอ้างอิง\n",
    "#---------------------------------------------------\n",
    "print('james =>', scores['james'])\n",
    "print('thomas =>', scores['thomas'])\n"
   ]
  },
  {
   "cell_type": "code",
   "execution_count": 2,
   "id": "a0b9ff30",
   "metadata": {},
   "outputs": [
    {
     "name": "stdout",
     "output_type": "stream",
     "text": [
      "{62001: ['Somsri Medee', 23, '4 Jun 2000', 'somsri@gmail.com', '066-12345678'], 62002: ['Somchai Madee', 24, '29 Feb 2000', 'somchai@gmail.com', '066-23456789']}\n",
      "['Somsri Medee', 23, '4 Jun 2000', 'somsri@gmail.com', '066-12345678']\n",
      "4 Jun 2000\n",
      "['Somsri Medee', 23, '4 Jun 2000', 'somsri@gmail.com', '066-12345678']\n",
      "dict_keys([62001, 62002])\n",
      "dict_values([['Somsri Medee', 23, '4 Jun 2000', 'somsri@gmail.com', '066-12345678'], ['Somchai Madee', 24, '29 Feb 2000', 'somchai@gmail.com', '066-23456789']])\n"
     ]
    }
   ],
   "source": [
    "#---------------------------------------------------\n",
    "#* กรณีที่ Value มีหลายจำนวน อาจใช้ Value เป็น List ได้\n",
    "#---------------------------------------------------\n",
    "\n",
    "std_info = {62001: [\"Somsri Medee\", 23, \"4 Jun 2000\", \"somsri@gmail.com\",\"066-12345678\"],\n",
    "                62002: [\"Somchai Madee\", 24, \"29 Feb 2000\", \"somchai@gmail.com\",\"066-23456789\"], \n",
    "           }\n",
    "\n",
    "print(std_info)\n",
    "print(std_info[62001])\n",
    "print(std_info[62001][2])      # อ้างถึง \"4 Jun 2000\"\n",
    "\n",
    "#---------------------------------------------------\n",
    "#* สามารถอ้างถึงแต่ละส่วนได้ ทั้ง keys และ value \n",
    "#---------------------------------------------------\n",
    "\n",
    "print(std_info[62001])\n",
    "print(std_info.keys())\n",
    "print(std_info.values())\n"
   ]
  },
  {
   "cell_type": "code",
   "execution_count": 3,
   "id": "1b168366",
   "metadata": {},
   "outputs": [
    {
     "name": "stdout",
     "output_type": "stream",
     "text": [
      "de\n",
      "ua\n",
      "th\n",
      "nl\n",
      "de Germany\n",
      "ua Ukraine\n",
      "th Thailand\n",
      "nl Netherlands\n",
      "Key: de ua th nl \n",
      "Value: Germany Ukraine Thailand Netherlands "
     ]
    }
   ],
   "source": [
    "#---------------------------------------------------\n",
    "#* Dictionary สามารถใช้กับ for loop ได้ \n",
    "#---------------------------------------------------\n",
    "\n",
    "countries = {'de': 'Germany', 'ua': 'Ukraine',\n",
    "             'th': 'Thailand', 'nl': 'Netherlands'}\n",
    "\n",
    "for i in countries:\n",
    "    print(i)\n",
    "\n",
    "for k, v in countries.items():\n",
    "    print(k, v)\n",
    "\n",
    "# iterate through keys\n",
    "print('Key:', end = ' ')\n",
    "for k in countries.keys():\n",
    "    print(k, end = ' ')\n",
    "\n",
    "# iterate through values\n",
    "print('\\nValue:', end = ' ')\n",
    "for v in countries.values():\n",
    "    print(v, end = ' ')\n",
    "    "
   ]
  },
  {
   "cell_type": "code",
   "execution_count": 3,
   "id": "5e34efed",
   "metadata": {},
   "outputs": [
    {
     "name": "stdout",
     "output_type": "stream",
     "text": [
      "Enter the number of students:3\n",
      "Enter your ID:64001\n",
      "Enter your name:John\n",
      "Enter your age:20\n",
      "Enter your ID:64002\n",
      "Enter your name:Mary\n",
      "Enter your age:21\n",
      "Enter your ID:64003\n",
      "Enter your name:Bob\n",
      "Enter your age:19\n",
      "{'64001': ['John', '20'], '64002': ['Mary', '21'], '64003': ['Bob', '19']}\n",
      "['John', '20']\n",
      "['Mary', '21']\n",
      "['Bob', '19']\n"
     ]
    }
   ],
   "source": [
    "### Example การรับข้อมูลเข้าสู่ Dictionary\n",
    "\n",
    "num = int(input(\"Enter the number of students:\"))\n",
    "dic = {}\n",
    "while num > 0:\n",
    "    idx = input(\"Enter your ID:\")\n",
    "    name = input(\"Enter your name:\")\n",
    "    age = input(\"Enter your age:\")\n",
    "    dic[idx] = [name, age]\n",
    "    num = num - 1\n",
    "#print all student members\n",
    "print(dic)\n",
    "#print each student member\n",
    "for data in dic:\n",
    "    print(dic[data])\n",
    "    "
   ]
  },
  {
   "cell_type": "code",
   "execution_count": 4,
   "id": "29db5c6b",
   "metadata": {},
   "outputs": [
    {
     "name": "stdout",
     "output_type": "stream",
     "text": [
      "Enter your the code of amphor that would like to find :10110\n",
      "Name of this code is  เขตคลองเตย\n",
      "Enter your the code of amphor that would like to find :20000\n"
     ]
    },
    {
     "ename": "KeyError",
     "evalue": "'20000'",
     "output_type": "error",
     "traceback": [
      "\u001b[1;31m---------------------------------------------------------------------------\u001b[0m",
      "\u001b[1;31mKeyError\u001b[0m                                  Traceback (most recent call last)",
      "\u001b[1;32m~\\AppData\\Local\\Temp/ipykernel_10812/1110170413.py\u001b[0m in \u001b[0;36m<module>\u001b[1;34m\u001b[0m\n\u001b[0;32m      4\u001b[0m \u001b[0mamphor\u001b[0m \u001b[1;33m=\u001b[0m \u001b[0minput\u001b[0m\u001b[1;33m(\u001b[0m\u001b[1;34m\"Enter your the code of amphor that would like to find :\"\u001b[0m\u001b[1;33m)\u001b[0m\u001b[1;33m\u001b[0m\u001b[1;33m\u001b[0m\u001b[0m\n\u001b[0;32m      5\u001b[0m \u001b[1;32mwhile\u001b[0m \u001b[0mamphor\u001b[0m \u001b[1;33m!=\u001b[0m \u001b[1;34m\"exit\"\u001b[0m\u001b[1;33m:\u001b[0m\u001b[1;33m\u001b[0m\u001b[1;33m\u001b[0m\u001b[0m\n\u001b[1;32m----> 6\u001b[1;33m     \u001b[1;32mif\u001b[0m \u001b[0mdic\u001b[0m\u001b[1;33m[\u001b[0m\u001b[0mamphor\u001b[0m\u001b[1;33m]\u001b[0m\u001b[1;33m:\u001b[0m\u001b[1;33m\u001b[0m\u001b[1;33m\u001b[0m\u001b[0m\n\u001b[0m\u001b[0;32m      7\u001b[0m         \u001b[0mprint\u001b[0m\u001b[1;33m(\u001b[0m\u001b[1;34m\"Name of this code is \"\u001b[0m\u001b[1;33m,\u001b[0m \u001b[0mdic\u001b[0m\u001b[1;33m[\u001b[0m\u001b[0mamphor\u001b[0m\u001b[1;33m]\u001b[0m\u001b[1;33m)\u001b[0m\u001b[1;33m\u001b[0m\u001b[1;33m\u001b[0m\u001b[0m\n\u001b[0;32m      8\u001b[0m     \u001b[1;32melse\u001b[0m\u001b[1;33m:\u001b[0m\u001b[1;33m\u001b[0m\u001b[1;33m\u001b[0m\u001b[0m\n",
      "\u001b[1;31mKeyError\u001b[0m: '20000'"
     ]
    }
   ],
   "source": [
    "# การค้นหาใน dictionary\n",
    "\n",
    "dic = {\"10110\":\"เขตคลองเตย\", \"50000\":\"อำเภอเมืองเชียงใหม่\", \"21000\":\"อำเภอเมืองระยอง\", \"40000\":\"อำเภอเมืองขอนแก่น\", \"83000\":\"อำเภอเมืองภูเก็ต\"}\n",
    "amphor = input(\"Enter your the code of amphor that would like to find :\")\n",
    "while amphor != \"exit\":\n",
    "    if dic[amphor]: \n",
    "        print(\"Name of this code is \", dic[amphor])\n",
    "    else:\n",
    "        print(\"This code is not in the database\")\n",
    "    amphor = input(\"Enter your the code of amphor that would like to find :\")\n",
    "print(\"Good bye...\")"
   ]
  },
  {
   "cell_type": "code",
   "execution_count": null,
   "id": "a7f4bc70",
   "metadata": {},
   "outputs": [],
   "source": []
  },
  {
   "cell_type": "code",
   "execution_count": null,
   "id": "da5736f2",
   "metadata": {},
   "outputs": [],
   "source": []
  }
 ],
 "metadata": {
  "kernelspec": {
   "display_name": "Python 3 (ipykernel)",
   "language": "python",
   "name": "python3"
  },
  "language_info": {
   "codemirror_mode": {
    "name": "ipython",
    "version": 3
   },
   "file_extension": ".py",
   "mimetype": "text/x-python",
   "name": "python",
   "nbconvert_exporter": "python",
   "pygments_lexer": "ipython3",
   "version": "3.9.6"
  }
 },
 "nbformat": 4,
 "nbformat_minor": 5
}
